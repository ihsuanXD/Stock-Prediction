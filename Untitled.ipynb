{
 "cells": [
  {
   "cell_type": "code",
   "execution_count": null,
   "id": "0a8da2a7-3086-4601-8325-3cc0bc1ea9be",
   "metadata": {},
   "outputs": [],
   "source": [
    "from flask import Flask, render_template, request, jsonify\n",
    "import yfinance as yf\n",
    "import pandas as pd\n",
    "from sklearn.linear_model import LinearRegression\n",
    "from sklearn.metrics import mean_squared_error\n",
    "import json\n",
    "import traceback\n",
    "from werkzeug.serving import run_simple\n",
    "\n",
    "app = Flask(__name__, template_folder = \"./template\")\n",
    "\n",
    "# load the model\n",
    "ticker = \"AAPL\"\n",
    "stock_data = yf.download(ticker, start=\"2010-01-01\", end=\"2022-03-25\")\n",
    "stock_data = stock_data.dropna()\n",
    "X = stock_data.drop([\"Adj Close\"], axis=1)\n",
    "y = stock_data[\"Adj Close\"]\n",
    "model = LinearRegression()\n",
    "model.fit(X, y)\n",
    "last_data = stock_data.iloc[-1].drop([\"Adj Close\"])\n",
    "prediction = model.predict([last_data])[0]\n",
    "\n",
    "# define the routes\n",
    "@app.route('/')\n",
    "def home():\n",
    "    return render_template('home.html')\n",
    "\n",
    "@app.route('/predict', methods=['POST'])\n",
    "def predict():\n",
    "    ticker = request.form['ticker']\n",
    "    stock_data = yf.download(ticker, start=\"2010-01-01\", end=\"2022-03-25\")\n",
    "    stock_data = stock_data.dropna()\n",
    "    X = stock_data.drop([\"Adj Close\"], axis=1)\n",
    "    y = stock_data[\"Adj Close\"]\n",
    "    model = LinearRegression()\n",
    "    model.fit(X, y)\n",
    "    last_data = stock_data.iloc[-1].drop([\"Adj Close\"])\n",
    "    prediction = model.predict([last_data])[0]\n",
    "    message = f\"The predicted closing price of {ticker} tomorrow is {prediction:.2f} USD.\"\n",
    "    return render_template('predict.html', message=message)\n",
    "\n",
    "\n",
    "if __name__ == '__main__':\n",
    "        app.debug = True\n",
    "        run_simple('localhost', 9000, app)\n"
   ]
  },
  {
   "cell_type": "code",
   "execution_count": null,
   "id": "43e26c91-62e0-4dd9-bf4d-253e497d2224",
   "metadata": {},
   "outputs": [],
   "source": []
  }
 ],
 "metadata": {
  "kernelspec": {
   "display_name": "Python 3 (ipykernel)",
   "language": "python",
   "name": "python3"
  },
  "language_info": {
   "codemirror_mode": {
    "name": "ipython",
    "version": 3
   },
   "file_extension": ".py",
   "mimetype": "text/x-python",
   "name": "python",
   "nbconvert_exporter": "python",
   "pygments_lexer": "ipython3",
   "version": "3.7.0"
  }
 },
 "nbformat": 4,
 "nbformat_minor": 5
}
